{
 "cells": [
  {
   "cell_type": "code",
   "execution_count": 24,
   "metadata": {},
   "outputs": [],
   "source": [
    "import collections\n",
    "import numpy as np\n",
    "import pandas as pd\n",
    "import csv\n",
    "from sklearn.metrics import confusion_matrix\n",
    "#directory of the training and validation files\n",
    "file_name_training=\"/home/merna/binaryClassification/binary_classifier_data/training.csv\"\n",
    "file_name_test=\"/home/merna/binaryClassification/binary_classifier_data/validation.csv\"\n",
    "list_of_words = []\n",
    "lst = []\n",
    "non_categorical =['variable2','variable3','variable8']\n",
    "all_numeric_data = ['variable2','variable3','variable8','variable14','variable15','variable17','variable19']\n",
    "categorical =['variable1','variable4','variable5','variable6','variable7','variable9','variable10','variable12','variable13']\n",
    "np.set_printoptions(formatter={'float_kind':lambda x: \"%.4f\" % x})\n",
    "import warnings\n",
    "warnings.filterwarnings('ignore')\n"
   ]
  },
  {
   "cell_type": "markdown",
   "metadata": {},
   "source": [
    "Readin dataframes of training data and test data "
   ]
  },
  {
   "cell_type": "code",
   "execution_count": 25,
   "metadata": {},
   "outputs": [],
   "source": [
    "read1 = pd.read_csv(file_name_training,delimiter=';')\n",
    "read2 = pd.read_csv(file_name_test,delimiter=';')"
   ]
  },
  {
   "cell_type": "raw",
   "metadata": {},
   "source": [
    "Cleaning data & preprocessing\n",
    "\n",
    "fillNA_in_categorical :\n",
    "get the categorical features and replace NA in it with the most common value in this feature\n",
    "\n",
    "replace_labels_with_binaryValues(train_labels)\n",
    " replace no with zero value and yes with one value\n",
    "\n",
    "fix_float:\n",
    "is to replace every , with . (cleaning data) \n"
   ]
  },
  {
   "cell_type": "code",
   "execution_count": 30,
   "metadata": {},
   "outputs": [],
   "source": [
    "#for handling missing values\n",
    "def fillNA_in_categorical(read):\n",
    "     for x in categorical:\n",
    "    # make dummy variables, count and sort descending:\n",
    "       most_common = pd.get_dummies(read[x]).sum().sort_values(ascending=False).index[0]  \n",
    "       read[x].fillna(most_common,inplace=True)\n",
    "     return read\n",
    "#for handling wrong float numbers and replace , with .\n",
    "def fix_float(read):\n",
    "    \n",
    "       read= list(read)\n",
    "       read = [float(str(indx).replace(',', '.')) for indx in read]     \n",
    "       return read\n",
    "#to make no --> 0 & yes -->1\n",
    "def replace_labels_with_binaryValues(labels):\n",
    "    for i in range(0,len(labels)):\n",
    "        if labels[i]=='no.':\n",
    "            labels[i]=0\n",
    "        else:\n",
    "            labels[i]=1\n",
    "    return labels\n",
    "\n",
    "\n",
    "\n",
    "    "
   ]
  },
  {
   "cell_type": "markdown",
   "metadata": {},
   "source": [
    "call all functions to clean data \n",
    "\n",
    "and i change categorical features to numerical representation using pandas one hot encoding\n",
    "and after recieve fix_float we replace nan value with median"
   ]
  },
  {
   "cell_type": "code",
   "execution_count": 31,
   "metadata": {},
   "outputs": [],
   "source": [
    "#I DROpped variable 18 as more than 70% are NAN values so it wont affect my model \n",
    "train_labels = list(read1['classLabel'])\n",
    "train_features = read1.drop(['classLabel','variable18'], axis=1)\n",
    "test_labels = list(read2['classLabel'])\n",
    "test_features = read2.drop(['classLabel','variable18'], axis=1)\n",
    "\n",
    "def cleaning():\n",
    "     global train_labels\n",
    "     global test_labels\n",
    "     global train_features\n",
    "     global test_features\n",
    "     #handle missing values in training data\n",
    "     fillNA_in_categorical(train_features)\n",
    "     #handle missing values in test data\n",
    "     fillNA_in_categorical(test_features)\n",
    "     #handle labels of train\n",
    "     train_labels = replace_labels_with_binaryValues(train_labels)\n",
    "     # handle label of test\n",
    "     test_labels= replace_labels_with_binaryValues(test_labels) \n",
    "     #get numeric representation of train and test data using one hot encoding\n",
    "     train_features['train']=1\n",
    "     test_features['train']=0\n",
    "     #this part to handle that train and test must have same size of features\n",
    "     combined =pd.concat([train_features, test_features])\n",
    "     combined = pd.get_dummies(combined, columns=categorical)\n",
    "     train_features = combined[combined['train']==1]\n",
    "     test_features= combined[combined['train']==0]\n",
    "     train_features.drop(['train'],axis=1,inplace=True)\n",
    "     test_features.drop(['train'],axis=1,inplace=True)\n",
    "     #handle float number for train and test data\n",
    "     for x in non_categorical:\n",
    "       train_features[x]=fix_float(train_features[x])\n",
    "       test_features[x]=fix_float(test_features[x])\n",
    "     #handle missing values in numerical features\n",
    "     for x in all_numeric_data:\n",
    "         median = train_features[x].median()\n",
    "         train_features[x].fillna(median, inplace=True)\n",
    "         median = test_features[x].median()\n",
    "         test_features[x].fillna(median, inplace=True)\n",
    "     \n",
    "\n",
    "     "
   ]
  },
  {
   "cell_type": "raw",
   "metadata": {},
   "source": [
    "Preprocessing\n",
    "\n",
    "Scaling the data"
   ]
  },
  {
   "cell_type": "code",
   "execution_count": 32,
   "metadata": {},
   "outputs": [
    {
     "data": {
      "text/plain": [
       "array([[0.2794, 0.2679, 0.0556, ..., 0.0000, 0.0000, 1.0000],\n",
       "       [0.1478, 0.0639, 0.0189, ..., 1.0000, 0.0000, 0.0000],\n",
       "       [0.3409, 0.0268, 0.0205, ..., 1.0000, 0.0000, 0.0000],\n",
       "       ...,\n",
       "       [0.2568, 0.0000, 0.0439, ..., 1.0000, 0.0000, 0.0000],\n",
       "       [0.0890, 0.0134, 0.0702, ..., 1.0000, 0.0000, 0.0000],\n",
       "       [0.2469, 0.2321, 0.1096, ..., 1.0000, 0.0000, 0.0000]])"
      ]
     },
     "execution_count": 32,
     "metadata": {},
     "output_type": "execute_result"
    }
   ],
   "source": [
    "\n",
    "cleaning()\n",
    "from sklearn.preprocessing import MinMaxScaler\n",
    "#scale the data in range 0--->1\n",
    "scaler = MinMaxScaler()\n",
    "scaler.fit(train_features)\n",
    "\n",
    "scaler.transform(train_features)\n",
    "scaler.transform(test_features)"
   ]
  },
  {
   "cell_type": "code",
   "execution_count": 33,
   "metadata": {},
   "outputs": [
    {
     "name": "stdout",
     "output_type": "stream",
     "text": [
      "3424  total  3700\n"
     ]
    }
   ],
   "source": [
    "sum = 0\n",
    "for i in range(0,len(train_labels)):\n",
    "    sum+= train_labels[i]\n",
    "print(sum,\" total \",len(train_labels))\n",
    "\n",
    "#this to check if the data balanced or not to know which mitric we will use so it \n",
    "#appears that it is not balanced so i will use F1 Score"
   ]
  },
  {
   "cell_type": "markdown",
   "metadata": {},
   "source": [
    "Building the model\n",
    "Trying naive bayes and calculating F1 Score"
   ]
  },
  {
   "cell_type": "code",
   "execution_count": 34,
   "metadata": {},
   "outputs": [
    {
     "name": "stdout",
     "output_type": "stream",
     "text": [
      "F1 for naive bayes  68.9875950380152\n",
      "[[71 36]\n",
      " [26 67]]\n"
     ]
    }
   ],
   "source": [
    "from sklearn.ensemble import RandomForestClassifier\n",
    "from sklearn.naive_bayes import GaussianNB\n",
    "from sklearn.neighbors import KNeighborsClassifier\n",
    "from sklearn.model_selection import cross_val_score\n",
    "from sklearn.metrics import f1_score\n",
    "clf = GaussianNB()\n",
    "clf.fit(train_features, train_labels)\n",
    "pred = clf.predict(test_features)\n",
    "print(\"F1 for naive bayes \",f1_score(test_labels, pred, average='macro')*100)\n",
    "print(confusion_matrix(test_labels, pred))\n"
   ]
  },
  {
   "cell_type": "markdown",
   "metadata": {},
   "source": [
    "KNN classifier and i used k fold cross validation to tune knn parameters"
   ]
  },
  {
   "cell_type": "code",
   "execution_count": 35,
   "metadata": {},
   "outputs": [
    {
     "name": "stdout",
     "output_type": "stream",
     "text": [
      "1\n"
     ]
    },
    {
     "data": {
      "image/png": "[encoded data removed]",
      "text/plain": [
       "<Figure size 432x288 with 1 Axes>"
      ]
     },
     "metadata": {
      "needs_background": "light"
     },
     "output_type": "display_data"
    },
    {
     "name": "stdout",
     "output_type": "stream",
     "text": [
      "F1 KNN of testDAta 59.74235104669887\n",
      "[[68 39]\n",
      " [41 52]]\n"
     ]
    }
   ],
   "source": [
    "def KNN():    \n",
    "    neighbors = list(range(1,50))\n",
    "    cv_scores = []\n",
    "    #tune k paramter \n",
    "    for k in neighbors:\n",
    "        knn = KNeighborsClassifier(n_neighbors=k)\n",
    "        # apply k fold cross validation to tune knn and calculate score using f1score\n",
    "        scores = cross_val_score(knn, train_features, train_labels, cv=10, scoring='f1_macro')\n",
    "        cv_scores.append(scores.mean())\n",
    "#MISCLASSIFICATION SQUARE ERROR\n",
    "    MSE = [1 - x for x in cv_scores]\n",
    "    #optimal k that has min mse\n",
    "    optimal_k = neighbors[MSE.index(min(MSE))]\n",
    "    print(optimal_k)\n",
    "    plt.plot(neighbors, cv_scores)\n",
    "    plt.xlabel('Number of Neighbors K')\n",
    "    plt.ylabel('Misclassification Error')\n",
    "    plt.show()\n",
    "    clf = KNeighborsClassifier(n_neighbors = optimal_k)\n",
    "    clf.fit(train_features, train_labels)\n",
    "    output_labels_KNN = clf.predict(test_features)\n",
    "    print(\"F1 KNN of testDAta\",f1_score(test_labels, output_labels_KNN, average='macro')*100)\n",
    "    print(confusion_matrix(test_labels, output_labels_KNN))\n",
    "KNN()"
   ]
  },
  {
   "cell_type": "markdown",
   "metadata": {},
   "source": [
    "Random forest"
   ]
  },
  {
   "cell_type": "code",
   "execution_count": 36,
   "metadata": {},
   "outputs": [
    {
     "name": "stdout",
     "output_type": "stream",
     "text": [
      "F1 of randomforest  : 68.9875950380152\n",
      "[[71 36]\n",
      " [26 67]]\n"
     ]
    }
   ],
   "source": [
    "clfRandomForest = RandomForestClassifier(n_estimators=300,min_samples_split = 2, min_samples_leaf = 2,max_features = 'sqrt',         \n",
    "    max_depth = 2000)\n",
    "clfRandomForest.fit(train_features, train_labels)  \n",
    "output_labels_randomForest = clf.predict(test_features)\n",
    "print(\"F1 of randomforest  :\",f1_score(test_labels, output_labels_randomForest, average='macro')*100)\n",
    "print(confusion_matrix(test_labels, output_labels_randomForest))"
   ]
  },
  {
   "cell_type": "markdown",
   "metadata": {},
   "source": [
    "LDA "
   ]
  },
  {
   "cell_type": "code",
   "execution_count": 37,
   "metadata": {},
   "outputs": [
    {
     "name": "stdout",
     "output_type": "stream",
     "text": [
      "F1 of LDA  : 82.93857888398233\n",
      "[[77 30]\n",
      " [ 4 89]]\n"
     ]
    }
   ],
   "source": [
    "from sklearn.discriminant_analysis import LinearDiscriminantAnalysis\n",
    "clf = LinearDiscriminantAnalysis()\n",
    "\n",
    "clf.fit(train_features, train_labels)\n",
    "output_labels_LDA = clf.predict(test_features)\n",
    "print(\"F1 of LDA  :\",f1_score(test_labels, output_labels_LDA, average='macro')*100)\n",
    "print(confusion_matrix(test_labels, output_labels_LDA))"
   ]
  }
 ],
 "metadata": {
  "kernelspec": {
   "display_name": "Python 3",
   "language": "python",
   "name": "python3"
  },
  "language_info": {
   "codemirror_mode": {
    "name": "ipython",
    "version": 3
   },
   "file_extension": ".py",
   "mimetype": "text/x-python",
   "name": "python",
   "nbconvert_exporter": "python",
   "pygments_lexer": "ipython3",
   "version": "3.6.7"
  }
 },
 "nbformat": 4,
 "nbformat_minor": 2
}
